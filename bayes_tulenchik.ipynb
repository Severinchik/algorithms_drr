{
 "cells": [
  {
   "cell_type": "code",
   "execution_count": 3,
   "metadata": {},
   "outputs": [],
   "source": [
    "import pandas as pd\n",
    "import numpy as np"
   ]
  },
  {
   "cell_type": "code",
   "execution_count": 30,
   "metadata": {},
   "outputs": [
    {
     "data": {
      "text/html": [
       "<div>\n",
       "<style>\n",
       "    .dataframe thead tr:only-child th {\n",
       "        text-align: right;\n",
       "    }\n",
       "\n",
       "    .dataframe thead th {\n",
       "        text-align: left;\n",
       "    }\n",
       "\n",
       "    .dataframe tbody tr th {\n",
       "        vertical-align: top;\n",
       "    }\n",
       "</style>\n",
       "<table border=\"1\" class=\"dataframe\">\n",
       "  <thead>\n",
       "    <tr style=\"text-align: right;\">\n",
       "      <th></th>\n",
       "      <th>вид</th>\n",
       "      <th>Рост</th>\n",
       "      <th>Вес</th>\n",
       "      <th>Длина хвоста</th>\n",
       "    </tr>\n",
       "  </thead>\n",
       "  <tbody>\n",
       "    <tr>\n",
       "      <th>0</th>\n",
       "      <td>пёсель</td>\n",
       "      <td>1.00</td>\n",
       "      <td>20</td>\n",
       "      <td>0.05</td>\n",
       "    </tr>\n",
       "    <tr>\n",
       "      <th>1</th>\n",
       "      <td>киця</td>\n",
       "      <td>0.30</td>\n",
       "      <td>6</td>\n",
       "      <td>0.20</td>\n",
       "    </tr>\n",
       "    <tr>\n",
       "      <th>2</th>\n",
       "      <td>пёсель</td>\n",
       "      <td>0.60</td>\n",
       "      <td>10</td>\n",
       "      <td>0.06</td>\n",
       "    </tr>\n",
       "    <tr>\n",
       "      <th>3</th>\n",
       "      <td>пёсель</td>\n",
       "      <td>0.97</td>\n",
       "      <td>18</td>\n",
       "      <td>0.10</td>\n",
       "    </tr>\n",
       "    <tr>\n",
       "      <th>4</th>\n",
       "      <td>киця</td>\n",
       "      <td>0.25</td>\n",
       "      <td>5</td>\n",
       "      <td>0.17</td>\n",
       "    </tr>\n",
       "    <tr>\n",
       "      <th>5</th>\n",
       "      <td>киця</td>\n",
       "      <td>0.20</td>\n",
       "      <td>3</td>\n",
       "      <td>0.18</td>\n",
       "    </tr>\n",
       "    <tr>\n",
       "      <th>6</th>\n",
       "      <td>киця</td>\n",
       "      <td>0.23</td>\n",
       "      <td>4</td>\n",
       "      <td>0.15</td>\n",
       "    </tr>\n",
       "    <tr>\n",
       "      <th>7</th>\n",
       "      <td>пёсель</td>\n",
       "      <td>0.50</td>\n",
       "      <td>8</td>\n",
       "      <td>0.15</td>\n",
       "    </tr>\n",
       "  </tbody>\n",
       "</table>\n",
       "</div>"
      ],
      "text/plain": [
       "      вид  Рост  Вес  Длина хвоста\n",
       "0  пёсель  1.00   20          0.05\n",
       "1    киця  0.30    6          0.20\n",
       "2  пёсель  0.60   10          0.06\n",
       "3  пёсель  0.97   18          0.10\n",
       "4    киця  0.25    5          0.17\n",
       "5    киця  0.20    3          0.18\n",
       "6    киця  0.23    4          0.15\n",
       "7  пёсель  0.50    8          0.15"
      ]
     },
     "execution_count": 30,
     "metadata": {},
     "output_type": "execute_result"
    }
   ],
   "source": [
    "'''создаём данные'''\n",
    "data = pd.DataFrame()\n",
    "data['вид'] = ['пёсель','киця','пёсель','пёсель','киця','киця','киця','пёсель']\n",
    "data['Рост'] = [1,.3,.6,.97,.25,.2,.23,.5]\n",
    "data['Вес'] = [20,6,10,18,5,3,4,8]\n",
    "data['Длина хвоста'] = [.05,.2,.06,.1,.17,.18,.15,.15]\n",
    "data"
   ]
  },
  {
   "cell_type": "code",
   "execution_count": 31,
   "metadata": {},
   "outputs": [
    {
     "data": {
      "text/html": [
       "<div>\n",
       "<style>\n",
       "    .dataframe thead tr:only-child th {\n",
       "        text-align: right;\n",
       "    }\n",
       "\n",
       "    .dataframe thead th {\n",
       "        text-align: left;\n",
       "    }\n",
       "\n",
       "    .dataframe tbody tr th {\n",
       "        vertical-align: top;\n",
       "    }\n",
       "</style>\n",
       "<table border=\"1\" class=\"dataframe\">\n",
       "  <thead>\n",
       "    <tr style=\"text-align: right;\">\n",
       "      <th></th>\n",
       "      <th>Рост</th>\n",
       "      <th>Вес</th>\n",
       "      <th>Длина хвоста</th>\n",
       "    </tr>\n",
       "  </thead>\n",
       "  <tbody>\n",
       "    <tr>\n",
       "      <th>0</th>\n",
       "      <td>0.7</td>\n",
       "      <td>25</td>\n",
       "      <td>0.2</td>\n",
       "    </tr>\n",
       "  </tbody>\n",
       "</table>\n",
       "</div>"
      ],
      "text/plain": [
       "   Рост  Вес  Длина хвоста\n",
       "0   0.7   25           0.2"
      ]
     },
     "execution_count": 31,
     "metadata": {},
     "output_type": "execute_result"
    }
   ],
   "source": [
    "'''создаём пустую табличку, по которой будем делать предсказания'''\n",
    "animal = pd.DataFrame()\n",
    "animal['Рост'] = [.7]\n",
    "animal['Вес'] = [25]\n",
    "animal['Длина хвоста'] = [.20] \n",
    "animal"
   ]
  },
  {
   "cell_type": "code",
   "execution_count": 44,
   "metadata": {
    "collapsed": true
   },
   "outputs": [],
   "source": [
    "'''считаем количество котиков и собачуль и всего'''\n",
    "n_cat = data['вид'][data['вид'] == 'киця'].count()\n",
    "n_dog = data['вид'][data['вид'] == 'пёсель'].count()\n",
    "total_ppl = data['вид'].count()"
   ]
  },
  {
   "cell_type": "code",
   "execution_count": 33,
   "metadata": {
    "collapsed": true
   },
   "outputs": [],
   "source": [
    "'''часть котеев от всех'''\n",
    "P_cat = n_cat/total_ppl\n",
    "\n",
    "'''часть пёсь'''\n",
    "P_dog = n_dog/total_ppl"
   ]
  },
  {
   "cell_type": "code",
   "execution_count": 46,
   "metadata": {},
   "outputs": [
    {
     "data": {
      "text/html": [
       "<div>\n",
       "<style>\n",
       "    .dataframe thead tr:only-child th {\n",
       "        text-align: right;\n",
       "    }\n",
       "\n",
       "    .dataframe thead th {\n",
       "        text-align: left;\n",
       "    }\n",
       "\n",
       "    .dataframe tbody tr th {\n",
       "        vertical-align: top;\n",
       "    }\n",
       "</style>\n",
       "<table border=\"1\" class=\"dataframe\">\n",
       "  <thead>\n",
       "    <tr style=\"text-align: right;\">\n",
       "      <th></th>\n",
       "      <th>Рост</th>\n",
       "      <th>Вес</th>\n",
       "      <th>Длина хвоста</th>\n",
       "    </tr>\n",
       "    <tr>\n",
       "      <th>вид</th>\n",
       "      <th></th>\n",
       "      <th></th>\n",
       "      <th></th>\n",
       "    </tr>\n",
       "  </thead>\n",
       "  <tbody>\n",
       "    <tr>\n",
       "      <th>киця</th>\n",
       "      <td>0.2450</td>\n",
       "      <td>4.5</td>\n",
       "      <td>0.175</td>\n",
       "    </tr>\n",
       "    <tr>\n",
       "      <th>пёсель</th>\n",
       "      <td>0.7675</td>\n",
       "      <td>14.0</td>\n",
       "      <td>0.090</td>\n",
       "    </tr>\n",
       "  </tbody>\n",
       "</table>\n",
       "</div>"
      ],
      "text/plain": [
       "          Рост   Вес  Длина хвоста\n",
       "вид                               \n",
       "киця    0.2450   4.5         0.175\n",
       "пёсель  0.7675  14.0         0.090"
      ]
     },
     "execution_count": 46,
     "metadata": {},
     "output_type": "execute_result"
    }
   ],
   "source": [
    "'''считаем среднее значение'''\n",
    "data_means = data.groupby('вид').mean()\n",
    "data_means"
   ]
  },
  {
   "cell_type": "code",
   "execution_count": 35,
   "metadata": {},
   "outputs": [
    {
     "data": {
      "text/html": [
       "<div>\n",
       "<style>\n",
       "    .dataframe thead tr:only-child th {\n",
       "        text-align: right;\n",
       "    }\n",
       "\n",
       "    .dataframe thead th {\n",
       "        text-align: left;\n",
       "    }\n",
       "\n",
       "    .dataframe tbody tr th {\n",
       "        vertical-align: top;\n",
       "    }\n",
       "</style>\n",
       "<table border=\"1\" class=\"dataframe\">\n",
       "  <thead>\n",
       "    <tr style=\"text-align: right;\">\n",
       "      <th></th>\n",
       "      <th>Рост</th>\n",
       "      <th>Вес</th>\n",
       "      <th>Длина хвоста</th>\n",
       "    </tr>\n",
       "    <tr>\n",
       "      <th>вид</th>\n",
       "      <th></th>\n",
       "      <th></th>\n",
       "      <th></th>\n",
       "    </tr>\n",
       "  </thead>\n",
       "  <tbody>\n",
       "    <tr>\n",
       "      <th>киця</th>\n",
       "      <td>0.001767</td>\n",
       "      <td>1.666667</td>\n",
       "      <td>0.000433</td>\n",
       "    </tr>\n",
       "    <tr>\n",
       "      <th>пёсель</th>\n",
       "      <td>0.064892</td>\n",
       "      <td>34.666667</td>\n",
       "      <td>0.002067</td>\n",
       "    </tr>\n",
       "  </tbody>\n",
       "</table>\n",
       "</div>"
      ],
      "text/plain": [
       "            Рост        Вес  Длина хвоста\n",
       "вид                                      \n",
       "киця    0.001767   1.666667      0.000433\n",
       "пёсель  0.064892  34.666667      0.002067"
      ]
     },
     "execution_count": 35,
     "metadata": {},
     "output_type": "execute_result"
    }
   ],
   "source": [
    "'''считаем вероятности'''\n",
    "data_variance = data.groupby('вид').var()\n",
    "\n",
    "# View the values\n",
    "data_variance"
   ]
  },
  {
   "cell_type": "code",
   "execution_count": 36,
   "metadata": {
    "collapsed": true
   },
   "outputs": [],
   "source": [
    "# среднее\n",
    "cat_height_mean = data_means['Рост'][data_variance.index == 'киця'].values[0]\n",
    "cat_weight_mean = data_means['Вес'][data_variance.index == 'киця'].values[0]\n",
    "cat_tail_mean = data_means['Длина хвоста'][data_variance.index == 'киця'].values[0]\n",
    "\n",
    "# вероятность\n",
    "cat_height_variance = data_variance['Рост'][data_variance.index == 'киця'].values[0]\n",
    "cat_weight_variance = data_variance['Вес'][data_variance.index == 'киця'].values[0]\n",
    "cat_tail_variance = data_variance['Длина хвоста'][data_variance.index == 'киця'].values[0]\n",
    "\n",
    "# среднее\n",
    "dog_height_mean = data_means['Рост'][data_variance.index == 'пёсель'].values[0]\n",
    "dog_weight_mean = data_means['Вес'][data_variance.index == 'пёсель'].values[0]\n",
    "dog_tail_mean = data_means['Длина хвоста'][data_variance.index == 'пёсель'].values[0]\n",
    "\n",
    "# вероятность\n",
    "dog_height_variance = data_variance['Рост'][data_variance.index == 'пёсель'].values[0]\n",
    "dog_weight_variance = data_variance['Вес'][data_variance.index == 'пёсель'].values[0]\n",
    "dog_tail_variance = data_variance['Длина хвоста'][data_variance.index == 'пёсель'].values[0]"
   ]
  },
  {
   "cell_type": "code",
   "execution_count": 37,
   "metadata": {
    "collapsed": true
   },
   "outputs": [],
   "source": [
    "# собственно, теорема байеса\n",
    "def p_x_given_y(x, mean_y, variance_y):\n",
    "    p = 1/(np.sqrt(2*np.pi*variance_y)) * np.exp((-(x-mean_y)**2)/(2*variance_y))\n",
    "    return p"
   ]
  },
  {
   "cell_type": "code",
   "execution_count": 42,
   "metadata": {},
   "outputs": [
    {
     "data": {
      "text/plain": [
       "8.6246889144310246e-80"
      ]
     },
     "execution_count": 42,
     "metadata": {},
     "output_type": "execute_result"
    }
   ],
   "source": [
    "#тут считаем прогноз того, что животина - кот\n",
    "P_cat * \\\n",
    "p_x_given_y(animal['Рост'][0], cat_height_mean, cat_height_variance) * \\\n",
    "p_x_given_y(animal['Вес'][0], cat_weight_mean, cat_weight_variance) * \\\n",
    "p_x_given_y(animal['Длина хвоста'][0], cat_tail_mean, cat_tail_variance)"
   ]
  },
  {
   "cell_type": "code",
   "execution_count": 43,
   "metadata": {},
   "outputs": [
    {
     "data": {
      "text/plain": [
       "0.0042022164573517953"
      ]
     },
     "execution_count": 43,
     "metadata": {},
     "output_type": "execute_result"
    }
   ],
   "source": [
    "#а тут, что собака\n",
    "P_dog * \\\n",
    "p_x_given_y(animal['Рост'][0], dog_height_mean, dog_height_variance) * \\\n",
    "p_x_given_y(animal['Вес'][0], dog_weight_mean, dog_weight_variance) * \\\n",
    "p_x_given_y(animal['Длина хвоста'][0], dog_tail_mean, dog_tail_variance)"
   ]
  },
  {
   "cell_type": "code",
   "execution_count": 47,
   "metadata": {},
   "outputs": [
    {
     "ename": "SyntaxError",
     "evalue": "invalid syntax (<ipython-input-47-95a626d47c82>, line 1)",
     "output_type": "error",
     "traceback": [
      "\u001b[0;36m  File \u001b[0;32m\"<ipython-input-47-95a626d47c82>\"\u001b[0;36m, line \u001b[0;32m1\u001b[0m\n\u001b[0;31m    получается, что оно собака, я так и задумывала\u001b[0m\n\u001b[0m                      ^\u001b[0m\n\u001b[0;31mSyntaxError\u001b[0m\u001b[0;31m:\u001b[0m invalid syntax\n"
     ]
    }
   ],
   "source": [
    "получается, что оно собака, я так и задумывала"
   ]
  },
  {
   "cell_type": "code",
   "execution_count": null,
   "metadata": {
    "collapsed": true
   },
   "outputs": [],
   "source": []
  }
 ],
 "metadata": {
  "kernelspec": {
   "display_name": "Python 3",
   "language": "python",
   "name": "python3"
  },
  "language_info": {
   "codemirror_mode": {
    "name": "ipython",
    "version": 3
   },
   "file_extension": ".py",
   "mimetype": "text/x-python",
   "name": "python",
   "nbconvert_exporter": "python",
   "pygments_lexer": "ipython3",
   "version": "3.6.3"
  }
 },
 "nbformat": 4,
 "nbformat_minor": 2
}
